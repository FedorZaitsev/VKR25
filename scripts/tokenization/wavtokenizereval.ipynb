{
 "cells": [
  {
   "cell_type": "code",
   "execution_count": 1,
   "id": "60ca4466",
   "metadata": {
    "_cell_guid": "b1076dfc-b9ad-4769-8c92-a6c4dae69d19",
    "_uuid": "8f2839f25d086af736a60e9eeb907d3b93b6e0e5",
    "execution": {
     "iopub.execute_input": "2025-05-12T20:29:55.236606Z",
     "iopub.status.busy": "2025-05-12T20:29:55.236320Z",
     "iopub.status.idle": "2025-05-12T20:30:01.848141Z",
     "shell.execute_reply": "2025-05-12T20:30:01.847315Z"
    },
    "papermill": {
     "duration": 6.616912,
     "end_time": "2025-05-12T20:30:01.849582",
     "exception": false,
     "start_time": "2025-05-12T20:29:55.232670",
     "status": "completed"
    },
    "tags": []
   },
   "outputs": [
    {
     "name": "stdout",
     "output_type": "stream",
     "text": [
      "Cloning into 'WavTokenizer'...\r\n",
      "remote: Enumerating objects: 200, done.\u001b[K\r\n",
      "remote: Counting objects: 100% (116/116), done.\u001b[K\r\n",
      "remote: Compressing objects: 100% (81/81), done.\u001b[K\r\n",
      "remote: Total 200 (delta 65), reused 37 (delta 35), pack-reused 84 (from 1)\u001b[K\r\n",
      "Receiving objects: 100% (200/200), 469.31 KiB | 4.79 MiB/s, done.\r\n",
      "Resolving deltas: 100% (83/83), done.\r\n",
      "/kaggle/working/WavTokenizer\n",
      "--2025-05-12 20:29:55--  https://huggingface.co/novateur/WavTokenizer-medium-music-audio-75token/resolve/main/wavtokenizer_medium_music_audio_320_24k_v2.ckpt\r\n",
      "Resolving huggingface.co (huggingface.co)... 18.244.202.68, 18.244.202.118, 18.244.202.60, ...\r\n",
      "Connecting to huggingface.co (huggingface.co)|18.244.202.68|:443... connected.\r\n",
      "HTTP request sent, awaiting response... 302 Found\r\n",
      "Location: https://cdn-lfs-us-1.hf.co/repos/f8/d8/f8d8b97f33126a1e3a4c3ffe2e6af86c26776cfa33aee1294672329b62115562/078d11581aa10cc91572bfcff7ef00b71d8e24c4c359e98f9194a1a9d21ae8a8?response-content-disposition=inline%3B+filename*%3DUTF-8%27%27wavtokenizer_medium_music_audio_320_24k_v2.ckpt%3B+filename%3D%22wavtokenizer_medium_music_audio_320_24k_v2.ckpt%22%3B&Expires=1747085396&Policy=eyJTdGF0ZW1lbnQiOlt7IkNvbmRpdGlvbiI6eyJEYXRlTGVzc1RoYW4iOnsiQVdTOkVwb2NoVGltZSI6MTc0NzA4NTM5Nn19LCJSZXNvdXJjZSI6Imh0dHBzOi8vY2RuLWxmcy11cy0xLmhmLmNvL3JlcG9zL2Y4L2Q4L2Y4ZDhiOTdmMzMxMjZhMWUzYTRjM2ZmZTJlNmFmODZjMjY3NzZjZmEzM2FlZTEyOTQ2NzIzMjliNjIxMTU1NjIvMDc4ZDExNTgxYWExMGNjOTE1NzJiZmNmZjdlZjAwYjcxZDhlMjRjNGMzNTllOThmOTE5NGExYTlkMjFhZThhOD9yZXNwb25zZS1jb250ZW50LWRpc3Bvc2l0aW9uPSoifV19&Signature=upAfA8U6b4gy3bdS2q2xCNz6G%7EXRgvR-Hm3k2DKcN5FusoWuAPcg9SFNKfqlMrZlRvDCWrCcN1u8Ue%7Ec1ajLuxaLhRMUh6q6Z5uHOKOCFhBETH08ZOtZ-3PfKBqHZzOUYIysoRY-uSWdKJWpXzcM-HVgb2OXIAQh8ttnbw3J2omlgQAudneUTrg1zmshjNLRQDrPANyaY7SMuWwfubLKTNG0PMM18zOmBpvvagp1imSO-mQBRkdZ625ieSQ-F3TFRtf6CC3LZ1DkQB9vER17piCQR9%7EQfHnESN%7E%7EzZ091V88h4AlH3I1scdS8UA2Yk6RKSFN63aXaeI7uK%7EloWIWQA__&Key-Pair-Id=K24J24Z295AEI9 [following]\r\n",
      "--2025-05-12 20:29:56--  https://cdn-lfs-us-1.hf.co/repos/f8/d8/f8d8b97f33126a1e3a4c3ffe2e6af86c26776cfa33aee1294672329b62115562/078d11581aa10cc91572bfcff7ef00b71d8e24c4c359e98f9194a1a9d21ae8a8?response-content-disposition=inline%3B+filename*%3DUTF-8%27%27wavtokenizer_medium_music_audio_320_24k_v2.ckpt%3B+filename%3D%22wavtokenizer_medium_music_audio_320_24k_v2.ckpt%22%3B&Expires=1747085396&Policy=eyJTdGF0ZW1lbnQiOlt7IkNvbmRpdGlvbiI6eyJEYXRlTGVzc1RoYW4iOnsiQVdTOkVwb2NoVGltZSI6MTc0NzA4NTM5Nn19LCJSZXNvdXJjZSI6Imh0dHBzOi8vY2RuLWxmcy11cy0xLmhmLmNvL3JlcG9zL2Y4L2Q4L2Y4ZDhiOTdmMzMxMjZhMWUzYTRjM2ZmZTJlNmFmODZjMjY3NzZjZmEzM2FlZTEyOTQ2NzIzMjliNjIxMTU1NjIvMDc4ZDExNTgxYWExMGNjOTE1NzJiZmNmZjdlZjAwYjcxZDhlMjRjNGMzNTllOThmOTE5NGExYTlkMjFhZThhOD9yZXNwb25zZS1jb250ZW50LWRpc3Bvc2l0aW9uPSoifV19&Signature=upAfA8U6b4gy3bdS2q2xCNz6G%7EXRgvR-Hm3k2DKcN5FusoWuAPcg9SFNKfqlMrZlRvDCWrCcN1u8Ue%7Ec1ajLuxaLhRMUh6q6Z5uHOKOCFhBETH08ZOtZ-3PfKBqHZzOUYIysoRY-uSWdKJWpXzcM-HVgb2OXIAQh8ttnbw3J2omlgQAudneUTrg1zmshjNLRQDrPANyaY7SMuWwfubLKTNG0PMM18zOmBpvvagp1imSO-mQBRkdZ625ieSQ-F3TFRtf6CC3LZ1DkQB9vER17piCQR9%7EQfHnESN%7E%7EzZ091V88h4AlH3I1scdS8UA2Yk6RKSFN63aXaeI7uK%7EloWIWQA__&Key-Pair-Id=K24J24Z295AEI9\r\n",
      "Resolving cdn-lfs-us-1.hf.co (cdn-lfs-us-1.hf.co)... 3.163.115.86, 3.163.115.28, 3.163.115.55, ...\r\n",
      "Connecting to cdn-lfs-us-1.hf.co (cdn-lfs-us-1.hf.co)|3.163.115.86|:443... connected.\r\n",
      "HTTP request sent, awaiting response... 200 OK\r\n",
      "Length: 1754884152 (1.6G) [binary/octet-stream]\r\n",
      "Saving to: ‘wavtokenizer_medium_music_audio_320_24k_v2.ckpt’\r\n",
      "\r\n",
      "wavtokenizer_medium 100%[===================>]   1.63G   321MB/s    in 5.3s    \r\n",
      "\r\n",
      "2025-05-12 20:30:01 (317 MB/s) - ‘wavtokenizer_medium_music_audio_320_24k_v2.ckpt’ saved [1754884152/1754884152]\r\n",
      "\r\n",
      "--2025-05-12 20:30:01--  https://huggingface.co/novateur/WavTokenizer-medium-music-audio-75token/resolve/main/wavtokenizer_mediumdata_music_audio_frame75_3s_nq1_code4096_dim512_kmeans200_attn.yaml\r\n",
      "Resolving huggingface.co (huggingface.co)... 18.244.202.73, 18.244.202.118, 18.244.202.60, ...\r\n",
      "Connecting to huggingface.co (huggingface.co)|18.244.202.73|:443... connected.\r\n",
      "HTTP request sent, awaiting response... 200 OK\r\n",
      "Length: 2995 (2.9K) [text/plain]\r\n",
      "Saving to: ‘wavtokenizer_mediumdata_music_audio_frame75_3s_nq1_code4096_dim512_kmeans200_attn.yaml’\r\n",
      "\r\n",
      "wavtokenizer_medium 100%[===================>]   2.92K  --.-KB/s    in 0s      \r\n",
      "\r\n",
      "2025-05-12 20:30:01 (1.31 GB/s) - ‘wavtokenizer_mediumdata_music_audio_frame75_3s_nq1_code4096_dim512_kmeans200_attn.yaml’ saved [2995/2995]\r\n",
      "\r\n"
     ]
    }
   ],
   "source": [
    "!git clone https://github.com/jishengpeng/WavTokenizer\n",
    "%cd WavTokenizer\n",
    "!wget https://huggingface.co/novateur/WavTokenizer-medium-music-audio-75token/resolve/main/wavtokenizer_medium_music_audio_320_24k_v2.ckpt\n",
    "!wget https://huggingface.co/novateur/WavTokenizer-medium-music-audio-75token/resolve/main/wavtokenizer_mediumdata_music_audio_frame75_3s_nq1_code4096_dim512_kmeans200_attn.yaml"
   ]
  },
  {
   "cell_type": "code",
   "execution_count": 2,
   "id": "4df97253",
   "metadata": {
    "execution": {
     "iopub.execute_input": "2025-05-12T20:30:01.859614Z",
     "iopub.status.busy": "2025-05-12T20:30:01.859357Z",
     "iopub.status.idle": "2025-05-12T20:30:10.330633Z",
     "shell.execute_reply": "2025-05-12T20:30:10.329778Z"
    },
    "papermill": {
     "duration": 8.477838,
     "end_time": "2025-05-12T20:30:10.332195",
     "exception": false,
     "start_time": "2025-05-12T20:30:01.854357",
     "status": "completed"
    },
    "tags": []
   },
   "outputs": [
    {
     "name": "stderr",
     "output_type": "stream",
     "text": [
      "/usr/local/lib/python3.11/dist-packages/torch/nn/utils/weight_norm.py:143: FutureWarning: `torch.nn.utils.weight_norm` is deprecated in favor of `torch.nn.utils.parametrizations.weight_norm`.\n",
      "  WeightNorm.apply(module, name, dim)\n",
      "/kaggle/working/WavTokenizer/decoder/pretrained.py:101: FutureWarning: You are using `torch.load` with `weights_only=False` (the current default value), which uses the default pickle module implicitly. It is possible to construct malicious pickle data which will execute arbitrary code during unpickling (See https://github.com/pytorch/pytorch/blob/main/SECURITY.md#untrusted-models for more details). In a future release, the default value for `weights_only` will be flipped to `True`. This limits the functions that could be executed during unpickling. Arbitrary objects will no longer be allowed to be loaded via this mode unless they are explicitly allowlisted by the user via `torch.serialization.add_safe_globals`. We recommend you start setting `weights_only=True` for any use case where you don't have full control of the loaded file. Please open an issue on GitHub for any issues related to this experimental feature.\n",
      "  state_dict_raw = torch.load(model_path, map_location=\"cpu\")['state_dict']\n"
     ]
    }
   ],
   "source": [
    "from encoder.utils import convert_audio\n",
    "import torchaudio\n",
    "import torch\n",
    "from decoder.pretrained import WavTokenizer\n",
    "\n",
    "\n",
    "device=torch.device('cuda')\n",
    "\n",
    "config_path = \"/kaggle/working/WavTokenizer/wavtokenizer_mediumdata_music_audio_frame75_3s_nq1_code4096_dim512_kmeans200_attn.yaml\"\n",
    "model_path = \"/kaggle/working/WavTokenizer/wavtokenizer_medium_music_audio_320_24k_v2.ckpt\"\n",
    "\n",
    "wavtokenizer = WavTokenizer.from_pretrained0802(config_path, model_path)\n",
    "wavtokenizer = wavtokenizer.to(device)"
   ]
  },
  {
   "cell_type": "markdown",
   "id": "7702bcac",
   "metadata": {
    "papermill": {
     "duration": 0.003858,
     "end_time": "2025-05-12T20:30:10.340451",
     "exception": false,
     "start_time": "2025-05-12T20:30:10.336593",
     "status": "completed"
    },
    "tags": []
   },
   "source": [
    "## Groove dataset"
   ]
  },
  {
   "cell_type": "code",
   "execution_count": 3,
   "id": "523abca2",
   "metadata": {
    "execution": {
     "iopub.execute_input": "2025-05-12T20:30:10.349559Z",
     "iopub.status.busy": "2025-05-12T20:30:10.348917Z",
     "iopub.status.idle": "2025-05-12T20:30:15.785262Z",
     "shell.execute_reply": "2025-05-12T20:30:15.784568Z"
    },
    "papermill": {
     "duration": 5.442364,
     "end_time": "2025-05-12T20:30:15.786719",
     "exception": false,
     "start_time": "2025-05-12T20:30:10.344355",
     "status": "completed"
    },
    "tags": []
   },
   "outputs": [],
   "source": [
    "import os\n",
    "\n",
    "wav_files = []\n",
    "\n",
    "for root, dirs, files in os.walk('/kaggle/input/groove1/groove/'):\n",
    "    for file in files:\n",
    "        if file.endswith('.wav'):\n",
    "            wav_files.append(os.path.join(root, file))"
   ]
  },
  {
   "cell_type": "code",
   "execution_count": 4,
   "id": "628a8488",
   "metadata": {
    "execution": {
     "iopub.execute_input": "2025-05-12T20:30:15.798143Z",
     "iopub.status.busy": "2025-05-12T20:30:15.797871Z",
     "iopub.status.idle": "2025-05-12T20:30:16.379580Z",
     "shell.execute_reply": "2025-05-12T20:30:16.378235Z"
    },
    "papermill": {
     "duration": 0.589266,
     "end_time": "2025-05-12T20:30:16.381619",
     "exception": false,
     "start_time": "2025-05-12T20:30:15.792353",
     "status": "completed"
    },
    "tags": []
   },
   "outputs": [],
   "source": [
    "! rm -rf /kaggle/working/groove_original\n",
    "! rm -rf /kaggle/working/groove_decoded\n",
    "! mkdir /kaggle/working/groove_original\n",
    "! mkdir /kaggle/working/groove_decoded"
   ]
  },
  {
   "cell_type": "code",
   "execution_count": 5,
   "id": "bab6ec58",
   "metadata": {
    "execution": {
     "iopub.execute_input": "2025-05-12T20:30:16.393678Z",
     "iopub.status.busy": "2025-05-12T20:30:16.392340Z",
     "iopub.status.idle": "2025-05-12T20:31:44.583251Z",
     "shell.execute_reply": "2025-05-12T20:31:44.582223Z"
    },
    "papermill": {
     "duration": 88.197056,
     "end_time": "2025-05-12T20:31:44.584552",
     "exception": false,
     "start_time": "2025-05-12T20:30:16.387496",
     "status": "completed"
    },
    "tags": []
   },
   "outputs": [
    {
     "name": "stderr",
     "output_type": "stream",
     "text": [
      "100%|██████████| 1090/1090 [01:28<00:00, 12.36it/s]\n"
     ]
    }
   ],
   "source": [
    "from tqdm import tqdm\n",
    "import shutil\n",
    "\n",
    "for wav_file in tqdm(wav_files):\n",
    "    name = wav_file.split('/')[-1]\n",
    "    dst = os.path.join('/kaggle/working/groove_original/', name)\n",
    "    shutil.copyfile(wav_file, dst)"
   ]
  },
  {
   "cell_type": "code",
   "execution_count": 6,
   "id": "42175746",
   "metadata": {
    "execution": {
     "iopub.execute_input": "2025-05-12T20:31:44.617385Z",
     "iopub.status.busy": "2025-05-12T20:31:44.617141Z",
     "iopub.status.idle": "2025-05-12T20:31:47.080635Z",
     "shell.execute_reply": "2025-05-12T20:31:47.079824Z"
    },
    "papermill": {
     "duration": 2.481218,
     "end_time": "2025-05-12T20:31:47.081978",
     "exception": false,
     "start_time": "2025-05-12T20:31:44.600760",
     "status": "completed"
    },
    "tags": []
   },
   "outputs": [],
   "source": [
    "import os\n",
    "import gc\n",
    "\n",
    "pt_files = []\n",
    "\n",
    "for root, dirs, files in os.walk('/kaggle/input/groove-tokens'):\n",
    "    for file in files:\n",
    "        if file.endswith('.pt'):\n",
    "            pt_files.append(os.path.join(root, file))"
   ]
  },
  {
   "cell_type": "code",
   "execution_count": 7,
   "id": "f0f94573",
   "metadata": {
    "execution": {
     "iopub.execute_input": "2025-05-12T20:31:47.114349Z",
     "iopub.status.busy": "2025-05-12T20:31:47.113812Z",
     "iopub.status.idle": "2025-05-12T20:31:47.118645Z",
     "shell.execute_reply": "2025-05-12T20:31:47.118147Z"
    },
    "papermill": {
     "duration": 0.021605,
     "end_time": "2025-05-12T20:31:47.119602",
     "exception": false,
     "start_time": "2025-05-12T20:31:47.097997",
     "status": "completed"
    },
    "tags": []
   },
   "outputs": [],
   "source": [
    "def save_wav_from_pt(pt_name, name):\n",
    "    with torch.no_grad():\n",
    "        audio_tokens = torch.load(pt_name, map_location=device)\n",
    "        audio_tokens = audio_tokens[:, :, :15000]\n",
    "        features = wavtokenizer.codes_to_features(audio_tokens)\n",
    "        bandwidth_id = torch.tensor([0], device=device)  \n",
    "        audio_out = wavtokenizer.decode(features, bandwidth_id=bandwidth_id)\n",
    "        torchaudio.save(name, audio_out.detach().cpu(), sample_rate=24000, encoding='PCM_S', bits_per_sample=16)\n",
    "    del audio_tokens\n",
    "    del features\n",
    "    del bandwidth_id\n",
    "    del audio_out\n",
    "\n",
    "    torch.cuda.empty_cache()\n",
    "    gc.collect()"
   ]
  },
  {
   "cell_type": "code",
   "execution_count": 8,
   "id": "38c71c6f",
   "metadata": {
    "execution": {
     "iopub.execute_input": "2025-05-12T20:31:47.150774Z",
     "iopub.status.busy": "2025-05-12T20:31:47.150550Z",
     "iopub.status.idle": "2025-05-12T20:35:24.116275Z",
     "shell.execute_reply": "2025-05-12T20:35:24.115433Z"
    },
    "papermill": {
     "duration": 216.982669,
     "end_time": "2025-05-12T20:35:24.117739",
     "exception": false,
     "start_time": "2025-05-12T20:31:47.135070",
     "status": "completed"
    },
    "tags": []
   },
   "outputs": [
    {
     "name": "stderr",
     "output_type": "stream",
     "text": [
      "  0%|          | 0/1090 [00:00<?, ?it/s]/tmp/ipykernel_19/3358673782.py:3: FutureWarning: You are using `torch.load` with `weights_only=False` (the current default value), which uses the default pickle module implicitly. It is possible to construct malicious pickle data which will execute arbitrary code during unpickling (See https://github.com/pytorch/pytorch/blob/main/SECURITY.md#untrusted-models for more details). In a future release, the default value for `weights_only` will be flipped to `True`. This limits the functions that could be executed during unpickling. Arbitrary objects will no longer be allowed to be loaded via this mode unless they are explicitly allowlisted by the user via `torch.serialization.add_safe_globals`. We recommend you start setting `weights_only=True` for any use case where you don't have full control of the loaded file. Please open an issue on GitHub for any issues related to this experimental feature.\n",
      "  audio_tokens = torch.load(pt_name, map_location=device)\n",
      "100%|██████████| 1090/1090 [03:36<00:00,  5.02it/s]\n"
     ]
    }
   ],
   "source": [
    "for pt_file in tqdm(pt_files):\n",
    "    name = pt_file.split('/')[-1][:-2] + 'wav'\n",
    "    dst = os.path.join('/kaggle/working/groove_decoded/', name)\n",
    "    save_wav_from_pt(pt_file, dst)"
   ]
  },
  {
   "cell_type": "code",
   "execution_count": 9,
   "id": "d196182e",
   "metadata": {
    "execution": {
     "iopub.execute_input": "2025-05-12T20:35:24.224796Z",
     "iopub.status.busy": "2025-05-12T20:35:24.224551Z",
     "iopub.status.idle": "2025-05-12T20:42:45.898959Z",
     "shell.execute_reply": "2025-05-12T20:42:45.898233Z"
    },
    "papermill": {
     "duration": 441.781837,
     "end_time": "2025-05-12T20:42:45.953430",
     "exception": false,
     "start_time": "2025-05-12T20:35:24.171593",
     "status": "completed"
    },
    "tags": []
   },
   "outputs": [
    {
     "data": {
      "text/plain": [
       "'/kaggle/working/WavTokenizer/groove_original.zip'"
      ]
     },
     "execution_count": 9,
     "metadata": {},
     "output_type": "execute_result"
    }
   ],
   "source": [
    "shutil.make_archive('groove_decoded', 'zip', '/kaggle/working/groove_decoded/')\n",
    "shutil.make_archive('groove_original', 'zip', '/kaggle/working/groove_original/')"
   ]
  },
  {
   "cell_type": "code",
   "execution_count": null,
   "id": "4bd2971d",
   "metadata": {
    "papermill": {
     "duration": 0.0535,
     "end_time": "2025-05-12T20:42:46.060688",
     "exception": false,
     "start_time": "2025-05-12T20:42:46.007188",
     "status": "completed"
    },
    "tags": []
   },
   "outputs": [],
   "source": []
  }
 ],
 "metadata": {
  "kaggle": {
   "accelerator": "gpu",
   "dataSources": [
    {
     "datasetId": 7097015,
     "sourceId": 11343199,
     "sourceType": "datasetVersion"
    },
    {
     "datasetId": 7115739,
     "sourceId": 11367598,
     "sourceType": "datasetVersion"
    }
   ],
   "dockerImageVersionId": 31011,
   "isGpuEnabled": true,
   "isInternetEnabled": true,
   "language": "python",
   "sourceType": "notebook"
  },
  "kernelspec": {
   "display_name": "Python 3",
   "language": "python",
   "name": "python3"
  },
  "language_info": {
   "codemirror_mode": {
    "name": "ipython",
    "version": 3
   },
   "file_extension": ".py",
   "mimetype": "text/x-python",
   "name": "python",
   "nbconvert_exporter": "python",
   "pygments_lexer": "ipython3",
   "version": "3.11.11"
  },
  "papermill": {
   "default_parameters": {},
   "duration": 777.579984,
   "end_time": "2025-05-12T20:42:48.531637",
   "environment_variables": {},
   "exception": null,
   "input_path": "__notebook__.ipynb",
   "output_path": "__notebook__.ipynb",
   "parameters": {},
   "start_time": "2025-05-12T20:29:50.951653",
   "version": "2.6.0"
  }
 },
 "nbformat": 4,
 "nbformat_minor": 5
}
