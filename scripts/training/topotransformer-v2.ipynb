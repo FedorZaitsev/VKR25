{
 "cells": [
  {
   "cell_type": "code",
   "execution_count": null,
   "metadata": {
    "_cell_guid": "b1076dfc-b9ad-4769-8c92-a6c4dae69d19",
    "_uuid": "8f2839f25d086af736a60e9eeb907d3b93b6e0e5",
    "execution": {
     "iopub.execute_input": "2025-05-06T09:20:13.211417Z",
     "iopub.status.busy": "2025-05-06T09:20:13.210859Z",
     "iopub.status.idle": "2025-05-06T09:20:15.266653Z",
     "shell.execute_reply": "2025-05-06T09:20:15.265855Z"
    },
    "papermill": {
     "duration": 2.061291,
     "end_time": "2025-05-06T09:20:15.267996",
     "exception": false,
     "start_time": "2025-05-06T09:20:13.206705",
     "status": "completed"
    },
    "tags": []
   },
   "outputs": [],
   "source": [
    "!git clone https://github.com/FedorZaitsev/VKR25\n",
    "%cd VKR25"
   ]
  },
  {
   "cell_type": "code",
   "execution_count": null,
   "metadata": {
    "execution": {
     "iopub.execute_input": "2025-05-06T09:20:15.276313Z",
     "iopub.status.busy": "2025-05-06T09:20:15.276074Z",
     "iopub.status.idle": "2025-05-06T09:20:26.625835Z",
     "shell.execute_reply": "2025-05-06T09:20:26.625105Z"
    },
    "papermill": {
     "duration": 11.35578,
     "end_time": "2025-05-06T09:20:26.627691",
     "exception": false,
     "start_time": "2025-05-06T09:20:15.271911",
     "status": "completed"
    },
    "tags": []
   },
   "outputs": [],
   "source": [
    "import os\n",
    "os.environ['TORCH_CUDA_ARCH_LIST']=\"5.0 5.2 5.3 6.0 6.1 6.2 7.0 7.2 7.5 8.0 8.6 8.7 8.9 9.0\"\n",
    "\n",
    "!pip install Ninja\n",
    "!git clone https://github.com/c-hofer/torchph.git\n",
    "!pip install -e torchph\n",
    "\n",
    "import sys\n",
    "sys.path.append(\"/kaggle/working/VKR25/torchph\")"
   ]
  },
  {
   "cell_type": "code",
   "execution_count": null,
   "metadata": {
    "execution": {
     "iopub.execute_input": "2025-05-06T09:20:26.637358Z",
     "iopub.status.busy": "2025-05-06T09:20:26.637135Z",
     "iopub.status.idle": "2025-05-06T09:20:26.641707Z",
     "shell.execute_reply": "2025-05-06T09:20:26.641183Z"
    },
    "papermill": {
     "duration": 0.010449,
     "end_time": "2025-05-06T09:20:26.642669",
     "exception": false,
     "start_time": "2025-05-06T09:20:26.632220",
     "status": "completed"
    },
    "tags": []
   },
   "outputs": [],
   "source": [
    "import os\n",
    "\n",
    "config = {\n",
    "    'SEED' : 228,\n",
    "    \n",
    "    'BOS_TOKEN' : 4096,\n",
    "    'EOS_TOKEN' : 4097,\n",
    "    'INP_PAD_TOKEN' : 4098,\n",
    "    'TAR_PAD_TOKEN' : -100,\n",
    "    'VOCAB_SIZE' : 4099,\n",
    "    'MAX_LENGTH' : 256,\n",
    "    'OVERLAP' : 64,\n",
    "    \n",
    "    'NUM_WORKERS' : 4,\n",
    "    'BATCH_SIZE' : 16,\n",
    "\n",
    "    'ACCUM_STEPS' : 1,\n",
    "}\n",
    "\n",
    "for key, value in config.items():\n",
    "    os.environ[key] = str(value)"
   ]
  },
  {
   "cell_type": "code",
   "execution_count": null,
   "metadata": {
    "execution": {
     "iopub.execute_input": "2025-05-06T09:20:26.651236Z",
     "iopub.status.busy": "2025-05-06T09:20:26.651057Z",
     "iopub.status.idle": "2025-05-06T09:20:30.543939Z",
     "shell.execute_reply": "2025-05-06T09:20:30.543141Z"
    },
    "papermill": {
     "duration": 3.898746,
     "end_time": "2025-05-06T09:20:30.545347",
     "exception": false,
     "start_time": "2025-05-06T09:20:26.646601",
     "status": "completed"
    },
    "tags": []
   },
   "outputs": [],
   "source": [
    "import torch\n",
    "import random\n",
    "import numpy as np\n",
    "\n",
    "device = 'cuda'\n",
    "root_dir = '/kaggle/input/groove-tokens'\n",
    "\n",
    "torch.manual_seed(config['SEED'])\n",
    "random.seed(config['SEED'])\n",
    "np.random.seed(config['SEED'])"
   ]
  },
  {
   "cell_type": "code",
   "execution_count": null,
   "metadata": {},
   "outputs": [],
   "source": [
    "from models.topotransformer_model import TopoTransformerModel, PositionalEncoding, CustomTransformerEncoderLayer\n",
    "torch.serialization.safe_globals([TopoTransformerModel])"
   ]
  },
  {
   "cell_type": "code",
   "execution_count": null,
   "metadata": {
    "execution": {
     "iopub.execute_input": "2025-05-06T09:28:25.800487Z",
     "iopub.status.busy": "2025-05-06T09:28:25.800260Z",
     "iopub.status.idle": "2025-05-06T09:28:25.803956Z",
     "shell.execute_reply": "2025-05-06T09:28:25.803430Z"
    },
    "papermill": {
     "duration": 0.009526,
     "end_time": "2025-05-06T09:28:25.805030",
     "exception": false,
     "start_time": "2025-05-06T09:28:25.795504",
     "status": "completed"
    },
    "tags": []
   },
   "outputs": [],
   "source": [
    "def load_old_model(model_old, model_new):\n",
    "    sd = model_new.state_dict()\n",
    "    for key, value in model_old.state_dict().items():\n",
    "        sd[key].copy_(value)\n",
    "\n",
    "    model_new.load_state_dict(sd)\n",
    "    del sd\n",
    "    return model_new"
   ]
  },
  {
   "cell_type": "code",
   "execution_count": null,
   "metadata": {
    "execution": {
     "iopub.execute_input": "2025-05-06T09:28:25.813811Z",
     "iopub.status.busy": "2025-05-06T09:28:25.813369Z",
     "iopub.status.idle": "2025-05-06T09:28:27.361843Z",
     "shell.execute_reply": "2025-05-06T09:28:27.361001Z"
    },
    "papermill": {
     "duration": 1.554256,
     "end_time": "2025-05-06T09:28:27.363277",
     "exception": false,
     "start_time": "2025-05-06T09:28:25.809021",
     "status": "completed"
    },
    "tags": []
   },
   "outputs": [],
   "source": [
    "model_old = torch.load('/kaggle/input/transformer/pytorch/default/1/checkpoint_400.pt', map_location=device)"
   ]
  },
  {
   "cell_type": "code",
   "execution_count": null,
   "metadata": {
    "execution": {
     "iopub.execute_input": "2025-05-06T09:28:27.372616Z",
     "iopub.status.busy": "2025-05-06T09:28:27.372380Z",
     "iopub.status.idle": "2025-05-06T09:28:27.710444Z",
     "shell.execute_reply": "2025-05-06T09:28:27.709539Z"
    },
    "papermill": {
     "duration": 0.344028,
     "end_time": "2025-05-06T09:28:27.711737",
     "exception": false,
     "start_time": "2025-05-06T09:28:27.367709",
     "status": "completed"
    },
    "tags": []
   },
   "outputs": [],
   "source": [
    "ttm = load_old_model(model_old, TopoTransformerModel().to(device))"
   ]
  },
  {
   "cell_type": "code",
   "execution_count": null,
   "metadata": {
    "execution": {
     "iopub.execute_input": "2025-05-06T09:28:27.721117Z",
     "iopub.status.busy": "2025-05-06T09:28:27.720893Z",
     "iopub.status.idle": "2025-05-06T09:28:27.725351Z",
     "shell.execute_reply": "2025-05-06T09:28:27.724890Z"
    },
    "papermill": {
     "duration": 0.010276,
     "end_time": "2025-05-06T09:28:27.726433",
     "exception": false,
     "start_time": "2025-05-06T09:28:27.716157",
     "status": "completed"
    },
    "tags": []
   },
   "outputs": [],
   "source": [
    "old_model_param_names = model_old.state_dict().keys()\n",
    "for n, p in ttm.named_parameters():\n",
    "    if n in old_model_param_names:\n",
    "        p.requires_grad = False\n",
    "\n",
    "ttm.linear.weight.requires_grad=True\n",
    "ttm.linear.bias.requires_grad=True"
   ]
  },
  {
   "cell_type": "code",
   "execution_count": null,
   "metadata": {
    "execution": {
     "iopub.execute_input": "2025-05-06T09:28:27.736113Z",
     "iopub.status.busy": "2025-05-06T09:28:27.735731Z",
     "iopub.status.idle": "2025-05-06T09:28:38.547342Z",
     "shell.execute_reply": "2025-05-06T09:28:38.546783Z"
    },
    "papermill": {
     "duration": 10.817311,
     "end_time": "2025-05-06T09:28:38.548537",
     "exception": false,
     "start_time": "2025-05-06T09:28:27.731226",
     "status": "completed"
    },
    "tags": []
   },
   "outputs": [],
   "source": [
    "from data import data\n",
    "\n",
    "sequences = data.read_sequences(root_dir)\n",
    "train_dataset, valid_dataset = data.get_train_val_dataset(sequences)\n",
    "\n",
    "train_loader = data.get_loader(train_dataset)\n",
    "valid_loader = data.get_loader(valid_dataset)"
   ]
  },
  {
   "cell_type": "code",
   "execution_count": null,
   "metadata": {
    "execution": {
     "iopub.execute_input": "2025-05-06T09:28:38.563322Z",
     "iopub.status.busy": "2025-05-06T09:28:38.563104Z",
     "iopub.status.idle": "2025-05-06T09:28:40.805901Z",
     "shell.execute_reply": "2025-05-06T09:28:40.805109Z"
    },
    "papermill": {
     "duration": 2.251593,
     "end_time": "2025-05-06T09:28:40.807431",
     "exception": false,
     "start_time": "2025-05-06T09:28:38.555838",
     "status": "completed"
    },
    "tags": []
   },
   "outputs": [],
   "source": [
    "%cd logging\n",
    "from wandb_logger import WandBLogger"
   ]
  },
  {
   "cell_type": "code",
   "execution_count": null,
   "metadata": {
    "execution": {
     "iopub.execute_input": "2025-05-06T09:28:40.822095Z",
     "iopub.status.busy": "2025-05-06T09:28:40.821868Z",
     "iopub.status.idle": "2025-05-06T09:28:40.826204Z",
     "shell.execute_reply": "2025-05-06T09:28:40.825518Z"
    },
    "papermill": {
     "duration": 0.012842,
     "end_time": "2025-05-06T09:28:40.827267",
     "exception": false,
     "start_time": "2025-05-06T09:28:40.814425",
     "status": "completed"
    },
    "tags": []
   },
   "outputs": [],
   "source": [
    "import matplotlib.pyplot as plt\n",
    "\n",
    "def plot_losses(train_l, valid_l, eval_every, name):\n",
    "    plt.grid()\n",
    "    plt.xlabel('epoch')\n",
    "    plt.ylabel('loss')\n",
    "    plt.plot(np.arange(len(train_l)), train_l, label='training', c='blue')\n",
    "    plt.scatter(np.arange(eval_every-1, len(train_l), eval_every), valid_l, label='validation', c='orange')\n",
    "    plt.legend()\n",
    "    plt.savefig(name)"
   ]
  },
  {
   "cell_type": "code",
   "execution_count": null,
   "metadata": {
    "execution": {
     "iopub.execute_input": "2025-05-06T09:28:40.841888Z",
     "iopub.status.busy": "2025-05-06T09:28:40.841269Z",
     "iopub.status.idle": "2025-05-06T09:28:41.618673Z",
     "shell.execute_reply": "2025-05-06T09:28:41.617904Z"
    },
    "papermill": {
     "duration": 0.785949,
     "end_time": "2025-05-06T09:28:41.620186",
     "exception": false,
     "start_time": "2025-05-06T09:28:40.834237",
     "status": "completed"
    },
    "tags": []
   },
   "outputs": [],
   "source": [
    "import torch.nn as nn\n",
    "from torch.optim import Adam, AdamW, SGD\n",
    "from torch.optim.lr_scheduler import CosineAnnealingLR, LambdaLR\n",
    "from transformers import get_cosine_schedule_with_warmup"
   ]
  },
  {
   "cell_type": "code",
   "execution_count": null,
   "metadata": {
    "execution": {
     "iopub.execute_input": "2025-05-06T09:28:41.635421Z",
     "iopub.status.busy": "2025-05-06T09:28:41.634679Z",
     "iopub.status.idle": "2025-05-06T09:28:45.745676Z",
     "shell.execute_reply": "2025-05-06T09:28:45.745116Z"
    },
    "papermill": {
     "duration": 4.119716,
     "end_time": "2025-05-06T09:28:45.747016",
     "exception": false,
     "start_time": "2025-05-06T09:28:41.627300",
     "status": "completed"
    },
    "tags": []
   },
   "outputs": [],
   "source": [
    "EPOCHS = 50\n",
    "LR = 1e-5\n",
    "EPS = 1e-8\n",
    "WD = 1e-2\n",
    "\n",
    "D_MODEL = 512\n",
    "NHEAD = 8\n",
    "NUM_LAYERS = 6\n",
    "DIM_FEEDFORWARD = 2048\n",
    "\n",
    "\n",
    "model = ttm\n",
    "\n",
    "optimizer = AdamW(model.parameters(), lr=LR, eps=EPS, weight_decay=WD)\n",
    "criterion = nn.CrossEntropyLoss(ignore_index=config['TAR_PAD_TOKEN'])\n",
    "\n",
    "\n",
    "\n",
    "total_steps = EPOCHS * (len(train_loader) + 1)\n",
    "# scheduler = get_cosine_schedule_with_warmup(optimizer, num_warmup_steps=total_steps//3, num_training_steps=total_steps)\n",
    "scheduler = CosineAnnealingLR(optimizer, T_max=total_steps//5, eta_min=1e-6)\n",
    "# scheduler = LambdaLR(optimizer, lambda x: 1)"
   ]
  },
  {
   "cell_type": "code",
   "execution_count": null,
   "metadata": {
    "execution": {
     "iopub.execute_input": "2025-05-06T09:28:45.761639Z",
     "iopub.status.busy": "2025-05-06T09:28:45.761291Z",
     "iopub.status.idle": "2025-05-06T09:28:47.599062Z",
     "shell.execute_reply": "2025-05-06T09:28:47.598484Z"
    },
    "papermill": {
     "duration": 1.846473,
     "end_time": "2025-05-06T09:28:47.600448",
     "exception": false,
     "start_time": "2025-05-06T09:28:45.753975",
     "status": "completed"
    },
    "tags": []
   },
   "outputs": [],
   "source": [
    "key = ''\n",
    "proj_name = 'VKR25'\n",
    "logger = WandBLogger(\n",
    "    key=key,\n",
    "    proj_name=proj_name,\n",
    "    name='',\n",
    "    cfg={\n",
    "    'MAX_LENGTH' : config['MAX_LENGTH'],\n",
    "    'OVERLAP' : config['OVERLAP'],\n",
    "    \n",
    "    'NUM_WORKERS' : config['NUM_WORKERS'],\n",
    "    'BATCH_SIZE' : config['BATCH_SIZE'],\n",
    "\n",
    "    'ACCUM_STEPS' : config['ACCUM_STEPS'],\n",
    "\n",
    "    'D_MODEL' : D_MODEL,\n",
    "    'NHEAD' : NHEAD,\n",
    "    'NUM_LAYERS' : NUM_LAYERS,\n",
    "    'DIM_FEEDFORWARD' : DIM_FEEDFORWARD,\n",
    "        \n",
    "    'OPTIMIZER' : 'AdamW',\n",
    "    'LR' : LR,\n",
    "    'EPS' : EPS,\n",
    "    'WD' : WD,\n",
    "    }\n",
    ")"
   ]
  },
  {
   "cell_type": "code",
   "execution_count": null,
   "metadata": {
    "execution": {
     "iopub.execute_input": "2025-05-06T09:28:47.616605Z",
     "iopub.status.busy": "2025-05-06T09:28:47.616405Z",
     "iopub.status.idle": "2025-05-06T14:10:29.585708Z",
     "shell.execute_reply": "2025-05-06T14:10:29.584859Z"
    },
    "papermill": {
     "duration": 16901.980339,
     "end_time": "2025-05-06T14:10:29.588940",
     "exception": false,
     "start_time": "2025-05-06T09:28:47.608601",
     "status": "completed"
    },
    "tags": []
   },
   "outputs": [],
   "source": [
    "EVAL_EVERY = 1\n",
    "CHECKPOINT_EVERY = 1\n",
    "\n",
    "train_losses = []\n",
    "valid_losses = []\n",
    "\n",
    "print(f'Total parameters: {sum(p.numel() for p in model.parameters())}')\n",
    "\n",
    "for epoch in range(EPOCHS):\n",
    "    avg_loss = model.train_epoch(train_loader, optimizer, criterion, scheduler, logger)\n",
    "    train_losses.append(avg_loss)\n",
    "    print(f\"Epoch {epoch+1}, Avg Loss: {avg_loss:.4f}\")\n",
    "    if (epoch+1) % EVAL_EVERY == 0:\n",
    "        val_loss = model.validate(valid_loader, criterion, logger)\n",
    "        valid_losses.append(val_loss)\n",
    "        print(f\"Epoch {epoch+1}, Val Loss: {val_loss:.4f}\")\n",
    "        \n",
    "    if (epoch+1) % CHECKPOINT_EVERY == 0:\n",
    "        torch.save(model, f\"checkpoint_{epoch+1}.pt\")\n",
    "        plot_losses(train_losses, valid_losses, EVAL_EVERY, f'epoch{epoch+1}.png')"
   ]
  },
  {
   "cell_type": "code",
   "execution_count": null,
   "metadata": {
    "execution": {
     "iopub.execute_input": "2025-05-06T14:10:29.619859Z",
     "iopub.status.busy": "2025-05-06T14:10:29.619037Z",
     "iopub.status.idle": "2025-05-06T14:10:32.642864Z",
     "shell.execute_reply": "2025-05-06T14:10:32.642080Z"
    },
    "papermill": {
     "duration": 3.039928,
     "end_time": "2025-05-06T14:10:32.644080",
     "exception": false,
     "start_time": "2025-05-06T14:10:29.604152",
     "status": "completed"
    },
    "tags": []
   },
   "outputs": [],
   "source": [
    "logger.kill()"
   ]
  }
 ],
 "metadata": {
  "kaggle": {
   "accelerator": "gpu",
   "dataSources": [
    {
     "datasetId": 7115739,
     "sourceId": 11367598,
     "sourceType": "datasetVersion"
    },
    {
     "isSourceIdPinned": true,
     "modelId": 329978,
     "modelInstanceId": 309606,
     "sourceId": 374490,
     "sourceType": "modelInstanceVersion"
    }
   ],
   "dockerImageVersionId": 31011,
   "isGpuEnabled": true,
   "isInternetEnabled": true,
   "language": "python",
   "sourceType": "notebook"
  },
  "kernelspec": {
   "display_name": "Python 3 (ipykernel)",
   "language": "python",
   "name": "python3"
  },
  "language_info": {
   "codemirror_mode": {
    "name": "ipython",
    "version": 3
   },
   "file_extension": ".py",
   "mimetype": "text/x-python",
   "name": "python",
   "nbconvert_exporter": "python",
   "pygments_lexer": "ipython3",
   "version": "3.9.7"
  },
  "papermill": {
   "default_parameters": {},
   "duration": 17427.243527,
   "end_time": "2025-05-06T14:10:36.345263",
   "environment_variables": {},
   "exception": null,
   "input_path": "__notebook__.ipynb",
   "output_path": "__notebook__.ipynb",
   "parameters": {},
   "start_time": "2025-05-06T09:20:09.101736",
   "version": "2.6.0"
  }
 },
 "nbformat": 4,
 "nbformat_minor": 4
}
