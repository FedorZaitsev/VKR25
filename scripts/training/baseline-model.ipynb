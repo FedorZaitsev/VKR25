{
 "cells": [
  {
   "cell_type": "code",
   "execution_count": null,
   "metadata": {
    "execution": {
     "iopub.execute_input": "2025-04-22T12:46:47.134186Z",
     "iopub.status.busy": "2025-04-22T12:46:47.133587Z",
     "iopub.status.idle": "2025-04-22T12:46:47.842051Z",
     "shell.execute_reply": "2025-04-22T12:46:47.841115Z",
     "shell.execute_reply.started": "2025-04-22T12:46:47.134154Z"
    }
   },
   "outputs": [],
   "source": [
    "!git clone https://github.com/FedorZaitsev/VKR25\n",
    "%cd VKR25"
   ]
  },
  {
   "cell_type": "code",
   "execution_count": null,
   "metadata": {
    "execution": {
     "iopub.execute_input": "2025-04-22T12:46:47.843953Z",
     "iopub.status.busy": "2025-04-22T12:46:47.843710Z",
     "iopub.status.idle": "2025-04-22T12:46:47.848903Z",
     "shell.execute_reply": "2025-04-22T12:46:47.848216Z",
     "shell.execute_reply.started": "2025-04-22T12:46:47.843931Z"
    }
   },
   "outputs": [],
   "source": [
    "import os\n",
    "\n",
    "config = {\n",
    "    'SEED' : 228,\n",
    "    \n",
    "    'BOS_TOKEN' : 4096,\n",
    "    'EOS_TOKEN' : 4097,\n",
    "    'INP_PAD_TOKEN' : 4098,\n",
    "    'TAR_PAD_TOKEN' : -100,\n",
    "    'VOCAB_SIZE' : 4099,\n",
    "    'MAX_LENGTH' : 256,\n",
    "    'OVERLAP' : 64,\n",
    "    \n",
    "    'NUM_WORKERS' : 4,\n",
    "    'BATCH_SIZE' : 16,\n",
    "\n",
    "    'ACCUM_STEPS' : 1,\n",
    "}\n",
    "\n",
    "for key, value in config.items():\n",
    "    os.environ[key] = str(value)"
   ]
  },
  {
   "cell_type": "code",
   "execution_count": null,
   "metadata": {
    "execution": {
     "iopub.execute_input": "2025-04-22T12:46:47.849889Z",
     "iopub.status.busy": "2025-04-22T12:46:47.849607Z",
     "iopub.status.idle": "2025-04-22T12:46:51.714301Z",
     "shell.execute_reply": "2025-04-22T12:46:51.713580Z",
     "shell.execute_reply.started": "2025-04-22T12:46:47.849868Z"
    }
   },
   "outputs": [],
   "source": [
    "import torch\n",
    "import random\n",
    "import numpy as np\n",
    "\n",
    "device = 'cuda'\n",
    "root_dir = '/kaggle/input/groove-tokens'\n",
    "\n",
    "torch.manual_seed(config['SEED'])\n",
    "random.seed(config['SEED'])\n",
    "np.random.seed(config['SEED'])"
   ]
  },
  {
   "cell_type": "code",
   "execution_count": null,
   "metadata": {
    "execution": {
     "iopub.execute_input": "2025-04-22T12:46:51.715900Z",
     "iopub.status.busy": "2025-04-22T12:46:51.715543Z",
     "iopub.status.idle": "2025-04-22T12:46:57.664934Z",
     "shell.execute_reply": "2025-04-22T12:46:57.664144Z",
     "shell.execute_reply.started": "2025-04-22T12:46:51.715880Z"
    }
   },
   "outputs": [],
   "source": [
    "from data import data\n",
    "\n",
    "sequences = data.read_sequences(root_dir)\n",
    "train_dataset, valid_dataset = data.get_train_val_dataset(sequences)\n",
    "\n",
    "train_loader = data.get_loader(train_dataset)\n",
    "valid_loader = data.get_loader(valid_dataset)"
   ]
  },
  {
   "cell_type": "code",
   "execution_count": null,
   "metadata": {
    "execution": {
     "iopub.execute_input": "2025-04-22T12:46:57.665844Z",
     "iopub.status.busy": "2025-04-22T12:46:57.665644Z",
     "iopub.status.idle": "2025-04-22T12:46:57.673539Z",
     "shell.execute_reply": "2025-04-22T12:46:57.672937Z",
     "shell.execute_reply.started": "2025-04-22T12:46:57.665827Z"
    }
   },
   "outputs": [],
   "source": [
    "from models.transformer_model import TransformerModel\n",
    "from models.rnn_model import RNNModel"
   ]
  },
  {
   "cell_type": "code",
   "execution_count": null,
   "metadata": {
    "execution": {
     "iopub.execute_input": "2025-04-22T12:46:57.674505Z",
     "iopub.status.busy": "2025-04-22T12:46:57.674178Z",
     "iopub.status.idle": "2025-04-22T12:46:57.687867Z",
     "shell.execute_reply": "2025-04-22T12:46:57.687220Z",
     "shell.execute_reply.started": "2025-04-22T12:46:57.674471Z"
    }
   },
   "outputs": [],
   "source": [
    "%cd logging"
   ]
  },
  {
   "cell_type": "code",
   "execution_count": null,
   "metadata": {
    "execution": {
     "iopub.execute_input": "2025-04-22T12:46:57.689119Z",
     "iopub.status.busy": "2025-04-22T12:46:57.688594Z",
     "iopub.status.idle": "2025-04-22T12:47:00.088549Z",
     "shell.execute_reply": "2025-04-22T12:47:00.087802Z",
     "shell.execute_reply.started": "2025-04-22T12:46:57.689095Z"
    }
   },
   "outputs": [],
   "source": [
    "from wandb_logger import WandBLogger"
   ]
  },
  {
   "cell_type": "code",
   "execution_count": null,
   "metadata": {
    "execution": {
     "iopub.execute_input": "2025-04-22T12:47:00.090313Z",
     "iopub.status.busy": "2025-04-22T12:47:00.090097Z",
     "iopub.status.idle": "2025-04-22T12:47:00.095127Z",
     "shell.execute_reply": "2025-04-22T12:47:00.094298Z",
     "shell.execute_reply.started": "2025-04-22T12:47:00.090293Z"
    }
   },
   "outputs": [],
   "source": [
    "import matplotlib.pyplot as plt\n",
    "\n",
    "def plot_losses(train_l, valid_l, eval_every, name):\n",
    "    plt.grid()\n",
    "    plt.xlabel('epoch')\n",
    "    plt.ylabel('loss')\n",
    "    plt.plot(np.arange(len(train_l)), train_l, label='training', c='blue')\n",
    "    plt.scatter(np.arange(eval_every-1, len(train_l), eval_every), valid_l, label='validation', c='orange')\n",
    "    plt.legend()\n",
    "    plt.savefig(name)"
   ]
  },
  {
   "cell_type": "code",
   "execution_count": null,
   "metadata": {
    "execution": {
     "iopub.execute_input": "2025-04-22T12:47:00.096151Z",
     "iopub.status.busy": "2025-04-22T12:47:00.095913Z",
     "iopub.status.idle": "2025-04-22T12:47:00.852561Z",
     "shell.execute_reply": "2025-04-22T12:47:00.851778Z",
     "shell.execute_reply.started": "2025-04-22T12:47:00.096130Z"
    }
   },
   "outputs": [],
   "source": [
    "import torch.nn as nn\n",
    "from torch.optim import Adam, AdamW, SGD\n",
    "from torch.optim.lr_scheduler import CosineAnnealingLR, LambdaLR\n",
    "from transformers import get_cosine_schedule_with_warmup"
   ]
  },
  {
   "cell_type": "code",
   "execution_count": null,
   "metadata": {
    "execution": {
     "iopub.execute_input": "2025-04-22T12:54:35.457963Z",
     "iopub.status.busy": "2025-04-22T12:54:35.457700Z",
     "iopub.status.idle": "2025-04-22T12:54:35.523266Z",
     "shell.execute_reply": "2025-04-22T12:54:35.522619Z",
     "shell.execute_reply.started": "2025-04-22T12:54:35.457944Z"
    }
   },
   "outputs": [],
   "source": [
    "EPOCHS = 400\n",
    "LR = 1e-4\n",
    "EPS = 1e-8\n",
    "WD = 1e-2\n",
    "\n",
    "D_MODEL = 512\n",
    "NHEAD = 8\n",
    "NUM_LAYERS = 6\n",
    "DIM_FEEDFORWARD = 2048\n",
    "\n",
    "\n",
    "model = TransformerModel(\n",
    "    d_model=D_MODEL, \n",
    "    nhead=NHEAD, \n",
    "    num_layers=NUM_LAYERS,\n",
    "    dim_feedforward=DIM_FEEDFORWARD\n",
    ").to(device)\n",
    "\n",
    "optimizer = AdamW(model.parameters(), lr=LR, eps=EPS, weight_decay=WD)\n",
    "criterion = nn.CrossEntropyLoss(ignore_index=config['TAR_PAD_TOKEN'])\n",
    "\n",
    "\n",
    "# scheduler = CosineAnnealingLR(optimizer, T_max=30, eta_min=1e-6)\n",
    "\n",
    "total_steps = EPOCHS * (len(train_loader) + 1)\n",
    "scheduler = get_cosine_schedule_with_warmup(optimizer, num_warmup_steps=total_steps//3, num_training_steps=total_steps)\n",
    "\n",
    "# scheduler = LambdaLR(optimizer, lambda x: 1)"
   ]
  },
  {
   "cell_type": "code",
   "execution_count": null,
   "metadata": {
    "execution": {
     "iopub.execute_input": "2025-04-22T12:54:37.926792Z",
     "iopub.status.busy": "2025-04-22T12:54:37.926493Z",
     "iopub.status.idle": "2025-04-22T12:54:50.916104Z",
     "shell.execute_reply": "2025-04-22T12:54:50.915431Z",
     "shell.execute_reply.started": "2025-04-22T12:54:37.926773Z"
    }
   },
   "outputs": [],
   "source": [
    "key = ''\n",
    "proj_name = 'VKR25'\n",
    "logger = WandBLogger(\n",
    "    key=key,\n",
    "    proj_name=proj_name,\n",
    "    name='',\n",
    "    cfg={\n",
    "    'MAX_LENGTH' : config['MAX_LENGTH'],\n",
    "    'OVERLAP' : config['OVERLAP'],\n",
    "    \n",
    "    'NUM_WORKERS' : config['NUM_WORKERS'],\n",
    "    'BATCH_SIZE' : config['BATCH_SIZE'],\n",
    "\n",
    "    'ACCUM_STEPS' : config['ACCUM_STEPS'],\n",
    "\n",
    "    'D_MODEL' : D_MODEL,\n",
    "    'NHEAD' : NHEAD,\n",
    "    'NUM_LAYERS' : NUM_LAYERS,\n",
    "    'DIM_FEEDFORWARD' : DIM_FEEDFORWARD,\n",
    "        \n",
    "    'OPTIMIZER' : 'AdamW',\n",
    "    'LR' : LR,\n",
    "    'EPS' : EPS,\n",
    "    'WD' : WD,\n",
    "    }\n",
    ")"
   ]
  },
  {
   "cell_type": "code",
   "execution_count": null,
   "metadata": {},
   "outputs": [],
   "source": [
    "EVAL_EVERY = 5\n",
    "CHECKPOINT_EVERY = 10\n",
    "\n",
    "train_losses = []\n",
    "valid_losses = []\n",
    "\n",
    "print(f'Total parameters: {sum(p.numel() for p in model.parameters())}')\n",
    "\n",
    "for epoch in range(EPOCHS):\n",
    "    avg_loss = model.train_epoch(train_loader, optimizer, criterion, scheduler, logger)\n",
    "    train_losses.append(avg_loss)\n",
    "    print(f\"Epoch {epoch+1}, Avg Loss: {avg_loss:.4f}\")\n",
    "    if (epoch+1) % EVAL_EVERY == 0:\n",
    "        val_loss = model.validate(valid_loader, criterion, logger)\n",
    "        valid_losses.append(val_loss)\n",
    "        print(f\"Epoch {epoch+1}, Val Loss: {val_loss:.4f}\")\n",
    "        \n",
    "    if (epoch+1) % CHECKPOINT_EVERY == 0:\n",
    "        torch.save(model, f\"checkpoint_{epoch+1}.pt\")\n",
    "        plot_losses(train_losses, valid_losses, EVAL_EVERY, f'epoch{epoch+1}.png')"
   ]
  },
  {
   "cell_type": "code",
   "execution_count": null,
   "metadata": {},
   "outputs": [],
   "source": [
    "logger.kill()"
   ]
  }
 ],
 "metadata": {
  "kaggle": {
   "accelerator": "gpu",
   "dataSources": [
    {
     "datasetId": 7211669,
     "sourceId": 11502750,
     "sourceType": "datasetVersion"
    }
   ],
   "dockerImageVersionId": 31011,
   "isGpuEnabled": true,
   "isInternetEnabled": true,
   "language": "python",
   "sourceType": "notebook"
  },
  "kernelspec": {
   "display_name": "Python 3 (ipykernel)",
   "language": "python",
   "name": "python3"
  },
  "language_info": {
   "codemirror_mode": {
    "name": "ipython",
    "version": 3
   },
   "file_extension": ".py",
   "mimetype": "text/x-python",
   "name": "python",
   "nbconvert_exporter": "python",
   "pygments_lexer": "ipython3",
   "version": "3.9.7"
  }
 },
 "nbformat": 4,
 "nbformat_minor": 4
}
