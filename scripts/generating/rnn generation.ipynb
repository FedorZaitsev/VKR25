{
 "cells": [
  {
   "cell_type": "code",
   "execution_count": 1,
   "id": "d2c110d7",
   "metadata": {
    "_cell_guid": "b1076dfc-b9ad-4769-8c92-a6c4dae69d19",
    "_uuid": "8f2839f25d086af736a60e9eeb907d3b93b6e0e5",
    "execution": {
     "iopub.execute_input": "2025-04-21T22:37:10.891669Z",
     "iopub.status.busy": "2025-04-21T22:37:10.890961Z",
     "iopub.status.idle": "2025-04-21T22:37:14.737221Z",
     "shell.execute_reply": "2025-04-21T22:37:14.736365Z"
    },
    "papermill": {
     "duration": 3.851763,
     "end_time": "2025-04-21T22:37:14.738700",
     "exception": false,
     "start_time": "2025-04-21T22:37:10.886937",
     "status": "completed"
    },
    "tags": []
   },
   "outputs": [],
   "source": [
    "import torch\n",
    "import torch.nn as nn\n",
    "VOCAB_SIZE = 4099\n",
    "MAX_LENGTH = 64\n",
    "\n",
    "device=torch.device('cuda')"
   ]
  },
  {
   "cell_type": "code",
   "execution_count": 2,
   "id": "d9e7034e",
   "metadata": {
    "execution": {
     "iopub.execute_input": "2025-04-21T22:37:14.744759Z",
     "iopub.status.busy": "2025-04-21T22:37:14.744218Z",
     "iopub.status.idle": "2025-04-21T22:37:14.751268Z",
     "shell.execute_reply": "2025-04-21T22:37:14.750585Z"
    },
    "papermill": {
     "duration": 0.01097,
     "end_time": "2025-04-21T22:37:14.752417",
     "exception": false,
     "start_time": "2025-04-21T22:37:14.741447",
     "status": "completed"
    },
    "tags": []
   },
   "outputs": [],
   "source": [
    "class RNNModel(nn.Module):\n",
    "    def __init__(self, vocab_size=VOCAB_SIZE, max_length=MAX_LENGTH, embed_size=256, hidden_size=256, rnn_type=nn.LSTM, rnn_layers=1):\n",
    "        super(RNNModel, self).__init__()\n",
    "        self.embedding = nn.Embedding(num_embeddings=VOCAB_SIZE, embedding_dim=embed_size)\n",
    "        nn.init.xavier_uniform_(self.embedding.weight)\n",
    "\n",
    "        self.embed_ln = nn.LayerNorm(embed_size)\n",
    "        self.embed_dropout = nn.Dropout(0.1)\n",
    "        \n",
    "        self.rnn = rnn_type(input_size=embed_size, \n",
    "                            hidden_size=hidden_size, \n",
    "                            num_layers=rnn_layers, \n",
    "                            batch_first=True)\n",
    "        \n",
    "        for name, param in self.named_parameters():\n",
    "            if 'weight_hh' in name:  # Recurrent weights\n",
    "                torch.nn.init.orthogonal_(param)\n",
    "            elif 'weight_ih' in name:  # Input weights\n",
    "                torch.nn.init.xavier_normal_(param)\n",
    "\n",
    "        for name, param in self.rnn.named_parameters():\n",
    "            if 'bias' in name:\n",
    "                nn.init.constant_(param, 0)\n",
    "                # LSTM forget gate bias = 1\n",
    "                n = param.size(0)\n",
    "                param.data[n//4:n//2].fill_(1)\n",
    "\n",
    "        self.rnn_ln = nn.LayerNorm(hidden_size)\n",
    "        \n",
    "        self.linear = nn.Linear(hidden_size, VOCAB_SIZE)\n",
    "        nn.init.xavier_uniform(self.linear.weight)\n",
    "\n",
    "    def forward(self, x):\n",
    "        x = self.embedding(x)\n",
    "        x = self.embed_ln(x)\n",
    "        x = self.embed_dropout(x)\n",
    "        x, _ = self.rnn(x)\n",
    "        x = self.rnn_ln(x)\n",
    "        return self.linear(x)"
   ]
  },
  {
   "cell_type": "code",
   "execution_count": 3,
   "id": "57364ec7",
   "metadata": {
    "execution": {
     "iopub.execute_input": "2025-04-21T22:37:14.757678Z",
     "iopub.status.busy": "2025-04-21T22:37:14.757297Z",
     "iopub.status.idle": "2025-04-21T22:37:15.847298Z",
     "shell.execute_reply": "2025-04-21T22:37:15.846471Z"
    },
    "papermill": {
     "duration": 1.094119,
     "end_time": "2025-04-21T22:37:15.848792",
     "exception": false,
     "start_time": "2025-04-21T22:37:14.754673",
     "status": "completed"
    },
    "tags": []
   },
   "outputs": [
    {
     "name": "stderr",
     "output_type": "stream",
     "text": [
      "/tmp/ipykernel_19/1303730993.py:1: FutureWarning: You are using `torch.load` with `weights_only=False` (the current default value), which uses the default pickle module implicitly. It is possible to construct malicious pickle data which will execute arbitrary code during unpickling (See https://github.com/pytorch/pytorch/blob/main/SECURITY.md#untrusted-models for more details). In a future release, the default value for `weights_only` will be flipped to `True`. This limits the functions that could be executed during unpickling. Arbitrary objects will no longer be allowed to be loaded via this mode unless they are explicitly allowlisted by the user via `torch.serialization.add_safe_globals`. We recommend you start setting `weights_only=True` for any use case where you don't have full control of the loaded file. Please open an issue on GitHub for any issues related to this experimental feature.\n",
      "  model100 = torch.load('/kaggle/input/medium_rnn/pytorch/default/1/checkpoint_100.pt', map_location=device)\n",
      "/tmp/ipykernel_19/1303730993.py:2: FutureWarning: You are using `torch.load` with `weights_only=False` (the current default value), which uses the default pickle module implicitly. It is possible to construct malicious pickle data which will execute arbitrary code during unpickling (See https://github.com/pytorch/pytorch/blob/main/SECURITY.md#untrusted-models for more details). In a future release, the default value for `weights_only` will be flipped to `True`. This limits the functions that could be executed during unpickling. Arbitrary objects will no longer be allowed to be loaded via this mode unless they are explicitly allowlisted by the user via `torch.serialization.add_safe_globals`. We recommend you start setting `weights_only=True` for any use case where you don't have full control of the loaded file. Please open an issue on GitHub for any issues related to this experimental feature.\n",
      "  model200 = torch.load('/kaggle/input/medium_rnn/pytorch/default/1/checkpoint_200.pt', map_location=device)\n",
      "/tmp/ipykernel_19/1303730993.py:3: FutureWarning: You are using `torch.load` with `weights_only=False` (the current default value), which uses the default pickle module implicitly. It is possible to construct malicious pickle data which will execute arbitrary code during unpickling (See https://github.com/pytorch/pytorch/blob/main/SECURITY.md#untrusted-models for more details). In a future release, the default value for `weights_only` will be flipped to `True`. This limits the functions that could be executed during unpickling. Arbitrary objects will no longer be allowed to be loaded via this mode unless they are explicitly allowlisted by the user via `torch.serialization.add_safe_globals`. We recommend you start setting `weights_only=True` for any use case where you don't have full control of the loaded file. Please open an issue on GitHub for any issues related to this experimental feature.\n",
      "  model300 = torch.load('/kaggle/input/medium_rnn/pytorch/default/1/checkpoint_300.pt', map_location=device)\n"
     ]
    }
   ],
   "source": [
    "model100 = torch.load('/kaggle/input/medium_rnn/pytorch/default/1/checkpoint_100.pt', map_location=device)\n",
    "model200 = torch.load('/kaggle/input/medium_rnn/pytorch/default/1/checkpoint_200.pt', map_location=device)\n",
    "model300 = torch.load('/kaggle/input/medium_rnn/pytorch/default/1/checkpoint_300.pt', map_location=device)"
   ]
  },
  {
   "cell_type": "code",
   "execution_count": 4,
   "id": "6ab8d5b2",
   "metadata": {
    "execution": {
     "iopub.execute_input": "2025-04-21T22:37:15.854667Z",
     "iopub.status.busy": "2025-04-21T22:37:15.854411Z",
     "iopub.status.idle": "2025-04-21T22:37:15.860320Z",
     "shell.execute_reply": "2025-04-21T22:37:15.859788Z"
    },
    "papermill": {
     "duration": 0.01002,
     "end_time": "2025-04-21T22:37:15.861380",
     "exception": false,
     "start_time": "2025-04-21T22:37:15.851360",
     "status": "completed"
    },
    "tags": []
   },
   "outputs": [],
   "source": [
    "from tqdm import tqdm\n",
    "\n",
    "BOS_TOKEN = 4096\n",
    "EOS_TOKEN = 4097\n",
    "INP_PAD_TOKEN = 4098\n",
    "\n",
    "sequence = [BOS_TOKEN]\n",
    "\n",
    "def generate(model, seq=sequence, max_len=600, tmp=1.0, force=False, watch_tail=None):\n",
    "\n",
    "    device = next(model.parameters()).device\n",
    "    model.eval()\n",
    "    generated = seq.copy()\n",
    "\n",
    "    with torch.no_grad():\n",
    "        for _ in tqdm(range(max_len - len(seq))):\n",
    "\n",
    "            src = torch.tensor(generated, dtype=torch.long).unsqueeze(0).to(device)\n",
    "            if watch_tail is not None:\n",
    "                src = src[:, -watch_tail:]\n",
    "            output = model(src)\n",
    "            logits = output[0, -1, :] / tmp\n",
    "            token = torch.distributions.categorical.Categorical(logits=logits).sample()\n",
    "\n",
    "            if token.item() > 4095:\n",
    "                if not force:\n",
    "                    break\n",
    "                else:\n",
    "                    token = torch.distributions.categorical.Categorical(logits=logits[:-3]).sample()\n",
    "            generated.append(token.item())\n",
    "\n",
    "\n",
    "    return generated[1:]"
   ]
  },
  {
   "cell_type": "code",
   "execution_count": 5,
   "id": "64e466ff",
   "metadata": {
    "execution": {
     "iopub.execute_input": "2025-04-21T22:37:15.866752Z",
     "iopub.status.busy": "2025-04-21T22:37:15.866489Z",
     "iopub.status.idle": "2025-04-21T22:37:16.573344Z",
     "shell.execute_reply": "2025-04-21T22:37:16.572376Z"
    },
    "papermill": {
     "duration": 0.710956,
     "end_time": "2025-04-21T22:37:16.574723",
     "exception": false,
     "start_time": "2025-04-21T22:37:15.863767",
     "status": "completed"
    },
    "tags": []
   },
   "outputs": [
    {
     "name": "stdout",
     "output_type": "stream",
     "text": [
      "Cloning into 'WavTokenizer'...\r\n",
      "remote: Enumerating objects: 200, done.\u001b[K\r\n",
      "remote: Counting objects: 100% (116/116), done.\u001b[K\r\n",
      "remote: Compressing objects: 100% (81/81), done.\u001b[K\r\n",
      "remote: Total 200 (delta 65), reused 37 (delta 35), pack-reused 84 (from 1)\u001b[K\r\n",
      "Receiving objects: 100% (200/200), 469.31 KiB | 5.46 MiB/s, done.\r\n",
      "Resolving deltas: 100% (83/83), done.\r\n",
      "/kaggle/working/WavTokenizer\n"
     ]
    }
   ],
   "source": [
    "!git clone https://github.com/jishengpeng/WavTokenizer\n",
    "%cd WavTokenizer"
   ]
  },
  {
   "cell_type": "code",
   "execution_count": 6,
   "id": "cbd2b26b",
   "metadata": {
    "execution": {
     "iopub.execute_input": "2025-04-21T22:37:16.581399Z",
     "iopub.status.busy": "2025-04-21T22:37:16.581152Z",
     "iopub.status.idle": "2025-04-21T22:37:26.921223Z",
     "shell.execute_reply": "2025-04-21T22:37:26.920456Z"
    },
    "papermill": {
     "duration": 10.345058,
     "end_time": "2025-04-21T22:37:26.922772",
     "exception": false,
     "start_time": "2025-04-21T22:37:16.577714",
     "status": "completed"
    },
    "tags": []
   },
   "outputs": [
    {
     "name": "stdout",
     "output_type": "stream",
     "text": [
      "--2025-04-21 22:37:16--  https://huggingface.co/novateur/WavTokenizer-medium-music-audio-75token/resolve/main/wavtokenizer_medium_music_audio_320_24k_v2.ckpt\r\n",
      "Resolving huggingface.co (huggingface.co)... 3.166.152.65, 3.166.152.105, 3.166.152.44, ...\r\n",
      "Connecting to huggingface.co (huggingface.co)|3.166.152.65|:443... connected.\r\n",
      "HTTP request sent, awaiting response... 302 Found\r\n",
      "Location: https://cdn-lfs-us-1.hf.co/repos/f8/d8/f8d8b97f33126a1e3a4c3ffe2e6af86c26776cfa33aee1294672329b62115562/078d11581aa10cc91572bfcff7ef00b71d8e24c4c359e98f9194a1a9d21ae8a8?response-content-disposition=inline%3B+filename*%3DUTF-8%27%27wavtokenizer_medium_music_audio_320_24k_v2.ckpt%3B+filename%3D%22wavtokenizer_medium_music_audio_320_24k_v2.ckpt%22%3B&Expires=1745278636&Policy=eyJTdGF0ZW1lbnQiOlt7IkNvbmRpdGlvbiI6eyJEYXRlTGVzc1RoYW4iOnsiQVdTOkVwb2NoVGltZSI6MTc0NTI3ODYzNn19LCJSZXNvdXJjZSI6Imh0dHBzOi8vY2RuLWxmcy11cy0xLmhmLmNvL3JlcG9zL2Y4L2Q4L2Y4ZDhiOTdmMzMxMjZhMWUzYTRjM2ZmZTJlNmFmODZjMjY3NzZjZmEzM2FlZTEyOTQ2NzIzMjliNjIxMTU1NjIvMDc4ZDExNTgxYWExMGNjOTE1NzJiZmNmZjdlZjAwYjcxZDhlMjRjNGMzNTllOThmOTE5NGExYTlkMjFhZThhOD9yZXNwb25zZS1jb250ZW50LWRpc3Bvc2l0aW9uPSoifV19&Signature=LBm9o6QyvhtdQy0CA2i6vjfCRz039eFvOUsn3a2uuMYMOTwU4UKU5yEylnTkLl0GfDJoLL3oabCBIuQahLZ418Ud6-boRu2R6GjJdcOebCt-YzDgL2pTLlyp0ywXbUtSRR81Bl7g5oveuf3vM5CnL-i2hRtE3YsgHkrCFVyokQtFIwafzIWSE5kfUxpkEhXqy7ldlAgQ9zBRgjL0G2y9u948SDOWncdMQ5LSAMP2h9LHW9kJyCMIC7rBPcmRTPCplDPply836aWQ6GEP5W1XHR6CdwrKiMG5hVNrERE4b0QE0cJUhkXcJRwoc1LrtRXl21pP7m06diAOg98XeO5p3A__&Key-Pair-Id=K24J24Z295AEI9 [following]\r\n",
      "--2025-04-21 22:37:16--  https://cdn-lfs-us-1.hf.co/repos/f8/d8/f8d8b97f33126a1e3a4c3ffe2e6af86c26776cfa33aee1294672329b62115562/078d11581aa10cc91572bfcff7ef00b71d8e24c4c359e98f9194a1a9d21ae8a8?response-content-disposition=inline%3B+filename*%3DUTF-8%27%27wavtokenizer_medium_music_audio_320_24k_v2.ckpt%3B+filename%3D%22wavtokenizer_medium_music_audio_320_24k_v2.ckpt%22%3B&Expires=1745278636&Policy=eyJTdGF0ZW1lbnQiOlt7IkNvbmRpdGlvbiI6eyJEYXRlTGVzc1RoYW4iOnsiQVdTOkVwb2NoVGltZSI6MTc0NTI3ODYzNn19LCJSZXNvdXJjZSI6Imh0dHBzOi8vY2RuLWxmcy11cy0xLmhmLmNvL3JlcG9zL2Y4L2Q4L2Y4ZDhiOTdmMzMxMjZhMWUzYTRjM2ZmZTJlNmFmODZjMjY3NzZjZmEzM2FlZTEyOTQ2NzIzMjliNjIxMTU1NjIvMDc4ZDExNTgxYWExMGNjOTE1NzJiZmNmZjdlZjAwYjcxZDhlMjRjNGMzNTllOThmOTE5NGExYTlkMjFhZThhOD9yZXNwb25zZS1jb250ZW50LWRpc3Bvc2l0aW9uPSoifV19&Signature=LBm9o6QyvhtdQy0CA2i6vjfCRz039eFvOUsn3a2uuMYMOTwU4UKU5yEylnTkLl0GfDJoLL3oabCBIuQahLZ418Ud6-boRu2R6GjJdcOebCt-YzDgL2pTLlyp0ywXbUtSRR81Bl7g5oveuf3vM5CnL-i2hRtE3YsgHkrCFVyokQtFIwafzIWSE5kfUxpkEhXqy7ldlAgQ9zBRgjL0G2y9u948SDOWncdMQ5LSAMP2h9LHW9kJyCMIC7rBPcmRTPCplDPply836aWQ6GEP5W1XHR6CdwrKiMG5hVNrERE4b0QE0cJUhkXcJRwoc1LrtRXl21pP7m06diAOg98XeO5p3A__&Key-Pair-Id=K24J24Z295AEI9\r\n",
      "Resolving cdn-lfs-us-1.hf.co (cdn-lfs-us-1.hf.co)... 99.84.252.22, 99.84.252.113, 99.84.252.91, ...\r\n",
      "Connecting to cdn-lfs-us-1.hf.co (cdn-lfs-us-1.hf.co)|99.84.252.22|:443... connected.\r\n",
      "HTTP request sent, awaiting response... 200 OK\r\n",
      "Length: 1754884152 (1.6G) [binary/octet-stream]\r\n",
      "Saving to: ‘wavtokenizer_medium_music_audio_320_24k_v2.ckpt’\r\n",
      "\r\n",
      "wavtokenizer_medium 100%[===================>]   1.63G   184MB/s    in 9.5s    \r\n",
      "\r\n",
      "2025-04-21 22:37:26 (176 MB/s) - ‘wavtokenizer_medium_music_audio_320_24k_v2.ckpt’ saved [1754884152/1754884152]\r\n",
      "\r\n",
      "--2025-04-21 22:37:26--  https://huggingface.co/novateur/WavTokenizer-medium-music-audio-75token/resolve/main/wavtokenizer_mediumdata_music_audio_frame75_3s_nq1_code4096_dim512_kmeans200_attn.yaml\r\n",
      "Resolving huggingface.co (huggingface.co)... 3.166.152.110, 3.166.152.44, 3.166.152.65, ...\r\n",
      "Connecting to huggingface.co (huggingface.co)|3.166.152.110|:443... connected.\r\n",
      "HTTP request sent, awaiting response... 200 OK\r\n",
      "Length: 2995 (2.9K) [text/plain]\r\n",
      "Saving to: ‘wavtokenizer_mediumdata_music_audio_frame75_3s_nq1_code4096_dim512_kmeans200_attn.yaml’\r\n",
      "\r\n",
      "wavtokenizer_medium 100%[===================>]   2.92K  --.-KB/s    in 0s      \r\n",
      "\r\n",
      "2025-04-21 22:37:26 (1.36 GB/s) - ‘wavtokenizer_mediumdata_music_audio_frame75_3s_nq1_code4096_dim512_kmeans200_attn.yaml’ saved [2995/2995]\r\n",
      "\r\n"
     ]
    }
   ],
   "source": [
    "!wget https://huggingface.co/novateur/WavTokenizer-medium-music-audio-75token/resolve/main/wavtokenizer_medium_music_audio_320_24k_v2.ckpt\n",
    "!wget https://huggingface.co/novateur/WavTokenizer-medium-music-audio-75token/resolve/main/wavtokenizer_mediumdata_music_audio_frame75_3s_nq1_code4096_dim512_kmeans200_attn.yaml"
   ]
  },
  {
   "cell_type": "code",
   "execution_count": 7,
   "id": "695fcb4c",
   "metadata": {
    "execution": {
     "iopub.execute_input": "2025-04-21T22:37:26.934677Z",
     "iopub.status.busy": "2025-04-21T22:37:26.934100Z",
     "iopub.status.idle": "2025-04-21T22:37:30.950351Z",
     "shell.execute_reply": "2025-04-21T22:37:30.949729Z"
    },
    "papermill": {
     "duration": 4.023442,
     "end_time": "2025-04-21T22:37:30.951703",
     "exception": false,
     "start_time": "2025-04-21T22:37:26.928261",
     "status": "completed"
    },
    "tags": []
   },
   "outputs": [
    {
     "name": "stderr",
     "output_type": "stream",
     "text": [
      "/usr/local/lib/python3.11/dist-packages/torch/nn/utils/weight_norm.py:143: FutureWarning: `torch.nn.utils.weight_norm` is deprecated in favor of `torch.nn.utils.parametrizations.weight_norm`.\n",
      "  WeightNorm.apply(module, name, dim)\n",
      "/kaggle/working/WavTokenizer/decoder/pretrained.py:101: FutureWarning: You are using `torch.load` with `weights_only=False` (the current default value), which uses the default pickle module implicitly. It is possible to construct malicious pickle data which will execute arbitrary code during unpickling (See https://github.com/pytorch/pytorch/blob/main/SECURITY.md#untrusted-models for more details). In a future release, the default value for `weights_only` will be flipped to `True`. This limits the functions that could be executed during unpickling. Arbitrary objects will no longer be allowed to be loaded via this mode unless they are explicitly allowlisted by the user via `torch.serialization.add_safe_globals`. We recommend you start setting `weights_only=True` for any use case where you don't have full control of the loaded file. Please open an issue on GitHub for any issues related to this experimental feature.\n",
      "  state_dict_raw = torch.load(model_path, map_location=\"cpu\")['state_dict']\n"
     ]
    }
   ],
   "source": [
    "from encoder.utils import convert_audio\n",
    "import torchaudio\n",
    "import torch\n",
    "from decoder.pretrained import WavTokenizer\n",
    "\n",
    "config_path = \"/kaggle/working/WavTokenizer/wavtokenizer_mediumdata_music_audio_frame75_3s_nq1_code4096_dim512_kmeans200_attn.yaml\"\n",
    "model_path = \"/kaggle/working/WavTokenizer/wavtokenizer_medium_music_audio_320_24k_v2.ckpt\"\n",
    "\n",
    "wavtokenizer = WavTokenizer.from_pretrained0802(config_path, model_path)\n",
    "wavtokenizer = wavtokenizer.to(device)"
   ]
  },
  {
   "cell_type": "code",
   "execution_count": 8,
   "id": "49d348c5",
   "metadata": {
    "execution": {
     "iopub.execute_input": "2025-04-21T22:37:30.963125Z",
     "iopub.status.busy": "2025-04-21T22:37:30.962880Z",
     "iopub.status.idle": "2025-04-21T22:37:30.967260Z",
     "shell.execute_reply": "2025-04-21T22:37:30.966753Z"
    },
    "papermill": {
     "duration": 0.01098,
     "end_time": "2025-04-21T22:37:30.968199",
     "exception": false,
     "start_time": "2025-04-21T22:37:30.957219",
     "status": "completed"
    },
    "tags": []
   },
   "outputs": [],
   "source": [
    "def tokens_to_wav(token_seq, name='example.wav'):\n",
    "    audio_tokens = torch.tensor([token_seq], device=device)\n",
    "    features = wavtokenizer.codes_to_features(audio_tokens)\n",
    "    bandwidth_id = torch.tensor([0], device=device)\n",
    "    audio_out = wavtokenizer.decode(features, bandwidth_id=bandwidth_id)\n",
    "    torchaudio.save(name, audio_out.cpu(), sample_rate=24000, encoding='PCM_S', bits_per_sample=16)"
   ]
  },
  {
   "cell_type": "code",
   "execution_count": 9,
   "id": "9679b4e0",
   "metadata": {
    "execution": {
     "iopub.execute_input": "2025-04-21T22:37:30.979071Z",
     "iopub.status.busy": "2025-04-21T22:37:30.978871Z",
     "iopub.status.idle": "2025-04-21T22:37:34.520536Z",
     "shell.execute_reply": "2025-04-21T22:37:34.519934Z"
    },
    "papermill": {
     "duration": 3.548549,
     "end_time": "2025-04-21T22:37:34.521963",
     "exception": false,
     "start_time": "2025-04-21T22:37:30.973414",
     "status": "completed"
    },
    "tags": []
   },
   "outputs": [
    {
     "name": "stderr",
     "output_type": "stream",
     "text": [
      "100%|██████████| 599/599 [00:02<00:00, 236.81it/s]\n"
     ]
    }
   ],
   "source": [
    "ans = generate(model100, tmp=1, force=True, watch_tail=40)\n",
    "tokens_to_wav(ans)"
   ]
  },
  {
   "cell_type": "code",
   "execution_count": 10,
   "id": "e7f87fb9",
   "metadata": {
    "execution": {
     "iopub.execute_input": "2025-04-21T22:37:34.535254Z",
     "iopub.status.busy": "2025-04-21T22:37:34.535033Z",
     "iopub.status.idle": "2025-04-21T22:37:34.748197Z",
     "shell.execute_reply": "2025-04-21T22:37:34.747291Z"
    },
    "papermill": {
     "duration": 0.221213,
     "end_time": "2025-04-21T22:37:34.749515",
     "exception": false,
     "start_time": "2025-04-21T22:37:34.528302",
     "status": "completed"
    },
    "tags": []
   },
   "outputs": [],
   "source": [
    "!mkdir /kaggle/working/WavTokenizer/wavs"
   ]
  },
  {
   "cell_type": "code",
   "execution_count": 11,
   "id": "1d909dd1",
   "metadata": {
    "execution": {
     "iopub.execute_input": "2025-04-21T22:37:34.764015Z",
     "iopub.status.busy": "2025-04-21T22:37:34.763760Z",
     "iopub.status.idle": "2025-04-21T22:44:24.281786Z",
     "shell.execute_reply": "2025-04-21T22:44:24.280967Z"
    },
    "papermill": {
     "duration": 409.527035,
     "end_time": "2025-04-21T22:44:24.283101",
     "exception": false,
     "start_time": "2025-04-21T22:37:34.756066",
     "status": "completed"
    },
    "tags": []
   },
   "outputs": [
    {
     "name": "stderr",
     "output_type": "stream",
     "text": [
      "100%|██████████| 599/599 [00:11<00:00, 50.89it/s]\n",
      "100%|██████████| 599/599 [00:11<00:00, 51.46it/s]\n",
      "100%|██████████| 599/599 [00:11<00:00, 51.56it/s]\n",
      "100%|██████████| 599/599 [00:00<00:00, 703.56it/s]\n",
      "100%|██████████| 599/599 [00:00<00:00, 685.91it/s]\n",
      "100%|██████████| 599/599 [00:00<00:00, 680.88it/s]\n",
      "100%|██████████| 599/599 [00:01<00:00, 473.73it/s]\n",
      "100%|██████████| 599/599 [00:01<00:00, 473.08it/s]\n",
      "100%|██████████| 599/599 [00:01<00:00, 477.72it/s]\n",
      "100%|██████████| 599/599 [00:01<00:00, 347.06it/s]\n",
      "100%|██████████| 599/599 [00:01<00:00, 358.57it/s]\n",
      "100%|██████████| 599/599 [00:01<00:00, 357.27it/s]\n",
      "100%|██████████| 599/599 [00:02<00:00, 292.45it/s]\n",
      "100%|██████████| 599/599 [00:02<00:00, 294.12it/s]\n",
      "100%|██████████| 599/599 [00:02<00:00, 298.16it/s]\n",
      "100%|██████████| 599/599 [00:02<00:00, 246.78it/s]\n",
      "100%|██████████| 599/599 [00:02<00:00, 249.13it/s]\n",
      "100%|██████████| 599/599 [00:02<00:00, 249.05it/s]\n",
      "100%|██████████| 599/599 [00:02<00:00, 214.98it/s]\n",
      "100%|██████████| 599/599 [00:02<00:00, 216.08it/s]\n",
      "100%|██████████| 599/599 [00:02<00:00, 216.31it/s]\n",
      "100%|██████████| 599/599 [00:11<00:00, 51.43it/s]\n",
      "100%|██████████| 599/599 [00:11<00:00, 51.66it/s]\n",
      "100%|██████████| 599/599 [00:11<00:00, 51.60it/s]\n",
      "100%|██████████| 599/599 [00:00<00:00, 690.82it/s]\n",
      "100%|██████████| 599/599 [00:00<00:00, 687.84it/s]\n",
      "100%|██████████| 599/599 [00:00<00:00, 690.49it/s]\n",
      "100%|██████████| 599/599 [00:01<00:00, 434.04it/s]\n",
      "100%|██████████| 599/599 [00:01<00:00, 475.32it/s]\n",
      "100%|██████████| 599/599 [00:01<00:00, 466.50it/s]\n",
      "100%|██████████| 599/599 [00:01<00:00, 352.05it/s]\n",
      "100%|██████████| 599/599 [00:01<00:00, 357.80it/s]\n",
      "100%|██████████| 599/599 [00:01<00:00, 363.58it/s]\n",
      "100%|██████████| 599/599 [00:02<00:00, 288.56it/s]\n",
      "100%|██████████| 599/599 [00:02<00:00, 297.57it/s]\n",
      "100%|██████████| 599/599 [00:02<00:00, 295.00it/s]\n",
      "100%|██████████| 599/599 [00:02<00:00, 246.93it/s]\n",
      "100%|██████████| 599/599 [00:02<00:00, 247.67it/s]\n",
      "100%|██████████| 599/599 [00:02<00:00, 250.90it/s]\n",
      "100%|██████████| 599/599 [00:02<00:00, 213.66it/s]\n",
      "100%|██████████| 599/599 [00:02<00:00, 215.94it/s]\n",
      "100%|██████████| 599/599 [00:02<00:00, 216.28it/s]\n",
      "100%|██████████| 599/599 [00:11<00:00, 51.62it/s]\n",
      "100%|██████████| 599/599 [00:11<00:00, 51.58it/s]\n",
      "100%|██████████| 599/599 [00:11<00:00, 51.68it/s]\n",
      "100%|██████████| 599/599 [00:00<00:00, 664.18it/s]\n",
      "100%|██████████| 599/599 [00:00<00:00, 684.58it/s]\n",
      "100%|██████████| 599/599 [00:00<00:00, 687.03it/s]\n",
      "100%|██████████| 599/599 [00:01<00:00, 477.46it/s]\n",
      "100%|██████████| 599/599 [00:01<00:00, 471.08it/s]\n",
      "100%|██████████| 599/599 [00:01<00:00, 477.85it/s]\n",
      "100%|██████████| 599/599 [00:01<00:00, 364.73it/s]\n",
      "100%|██████████| 599/599 [00:01<00:00, 357.22it/s]\n",
      "100%|██████████| 599/599 [00:01<00:00, 364.35it/s]\n",
      "100%|██████████| 599/599 [00:02<00:00, 292.00it/s]\n",
      "100%|██████████| 599/599 [00:02<00:00, 296.67it/s]\n",
      "100%|██████████| 599/599 [00:02<00:00, 296.40it/s]\n",
      "100%|██████████| 599/599 [00:02<00:00, 250.11it/s]\n",
      "100%|██████████| 599/599 [00:02<00:00, 248.75it/s]\n",
      "100%|██████████| 599/599 [00:02<00:00, 249.10it/s]\n",
      "100%|██████████| 599/599 [00:02<00:00, 216.00it/s]\n",
      "100%|██████████| 599/599 [00:02<00:00, 215.94it/s]\n",
      "100%|██████████| 599/599 [00:02<00:00, 214.04it/s]\n",
      "100%|██████████| 599/599 [00:11<00:00, 51.26it/s]\n",
      "100%|██████████| 599/599 [00:11<00:00, 51.52it/s]\n",
      "100%|██████████| 599/599 [00:11<00:00, 51.69it/s]\n",
      "100%|██████████| 599/599 [00:00<00:00, 685.89it/s]\n",
      "100%|██████████| 599/599 [00:00<00:00, 699.61it/s]\n",
      "100%|██████████| 599/599 [00:00<00:00, 699.74it/s]\n",
      "100%|██████████| 599/599 [00:01<00:00, 478.97it/s]\n",
      "100%|██████████| 599/599 [00:01<00:00, 478.55it/s]\n",
      "100%|██████████| 599/599 [00:01<00:00, 475.93it/s]\n",
      "100%|██████████| 599/599 [00:01<00:00, 365.08it/s]\n",
      "100%|██████████| 599/599 [00:01<00:00, 364.63it/s]\n",
      "100%|██████████| 599/599 [00:01<00:00, 364.22it/s]\n",
      "100%|██████████| 599/599 [00:02<00:00, 298.70it/s]\n",
      "100%|██████████| 599/599 [00:02<00:00, 298.54it/s]\n",
      "100%|██████████| 599/599 [00:02<00:00, 297.66it/s]\n",
      "100%|██████████| 599/599 [00:02<00:00, 253.18it/s]\n",
      "100%|██████████| 599/599 [00:02<00:00, 252.97it/s]\n",
      "100%|██████████| 599/599 [00:02<00:00, 252.30it/s]\n",
      "100%|██████████| 599/599 [00:02<00:00, 219.30it/s]\n",
      "100%|██████████| 599/599 [00:02<00:00, 217.65it/s]\n",
      "100%|██████████| 599/599 [00:02<00:00, 215.87it/s]\n",
      "100%|██████████| 599/599 [00:11<00:00, 51.75it/s]\n",
      "100%|██████████| 599/599 [00:11<00:00, 51.65it/s]\n",
      "100%|██████████| 599/599 [00:11<00:00, 51.44it/s]\n",
      "100%|██████████| 599/599 [00:00<00:00, 692.91it/s]\n",
      "100%|██████████| 599/599 [00:00<00:00, 692.17it/s]\n",
      "100%|██████████| 599/599 [00:00<00:00, 697.05it/s]\n",
      "100%|██████████| 599/599 [00:01<00:00, 479.10it/s]\n",
      "100%|██████████| 599/599 [00:01<00:00, 479.59it/s]\n",
      "100%|██████████| 599/599 [00:01<00:00, 477.90it/s]\n",
      "100%|██████████| 599/599 [00:01<00:00, 363.67it/s]\n",
      "100%|██████████| 599/599 [00:01<00:00, 362.24it/s]\n",
      "100%|██████████| 599/599 [00:01<00:00, 364.61it/s]\n",
      "100%|██████████| 599/599 [00:02<00:00, 298.23it/s]\n",
      "100%|██████████| 599/599 [00:02<00:00, 298.53it/s]\n",
      "100%|██████████| 599/599 [00:02<00:00, 298.86it/s]\n",
      "100%|██████████| 599/599 [00:02<00:00, 252.87it/s]\n",
      "100%|██████████| 599/599 [00:02<00:00, 251.66it/s]\n",
      "100%|██████████| 599/599 [00:02<00:00, 252.03it/s]\n",
      "100%|██████████| 599/599 [00:02<00:00, 220.80it/s]\n",
      "100%|██████████| 599/599 [00:02<00:00, 219.53it/s]\n",
      "100%|██████████| 599/599 [00:02<00:00, 218.88it/s]\n",
      "100%|██████████| 599/599 [00:11<00:00, 51.99it/s]\n",
      "100%|██████████| 599/599 [00:11<00:00, 52.06it/s]\n",
      "100%|██████████| 599/599 [00:11<00:00, 51.96it/s]\n",
      "100%|██████████| 599/599 [00:00<00:00, 675.12it/s]\n",
      "100%|██████████| 599/599 [00:00<00:00, 696.09it/s]\n",
      "100%|██████████| 599/599 [00:00<00:00, 701.15it/s]\n",
      "100%|██████████| 599/599 [00:01<00:00, 480.38it/s]\n",
      "100%|██████████| 599/599 [00:01<00:00, 478.87it/s]\n",
      "100%|██████████| 599/599 [00:01<00:00, 478.95it/s]\n",
      "100%|██████████| 599/599 [00:01<00:00, 365.06it/s]\n",
      "100%|██████████| 599/599 [00:01<00:00, 366.05it/s]\n",
      "100%|██████████| 599/599 [00:01<00:00, 363.86it/s]\n",
      "100%|██████████| 599/599 [00:02<00:00, 299.36it/s]\n",
      "100%|██████████| 599/599 [00:02<00:00, 298.98it/s]\n",
      "100%|██████████| 599/599 [00:02<00:00, 298.04it/s]\n",
      "100%|██████████| 599/599 [00:02<00:00, 253.17it/s]\n",
      "100%|██████████| 599/599 [00:02<00:00, 253.23it/s]\n",
      "100%|██████████| 599/599 [00:02<00:00, 253.09it/s]\n",
      "100%|██████████| 599/599 [00:02<00:00, 220.87it/s]\n",
      "100%|██████████| 599/599 [00:02<00:00, 220.84it/s]\n",
      "100%|██████████| 599/599 [00:02<00:00, 220.53it/s]\n"
     ]
    }
   ],
   "source": [
    "for i, tmp in enumerate([0.01, 0.1, 1, 3, 5, 10]):\n",
    "    for tail in [None, 10, 20, 30, 40, 50, 60]:\n",
    "        ans1 = generate(model100, tmp=tmp, force=True, watch_tail=tail)\n",
    "        ans2 = generate(model200, tmp=tmp, force=True, watch_tail=tail)\n",
    "        ans3 = generate(model300, tmp=tmp, force=True, watch_tail=tail)\n",
    "        tokens_to_wav(ans1, f'wavs/model1_tmp{i}_tail{tail}.wav')\n",
    "        tokens_to_wav(ans2, f'wavs/model2_tmp{i}_tail{tail}.wav')\n",
    "        tokens_to_wav(ans3, f'wavs/model3_tmp{i}_tail{tail}.wav')"
   ]
  },
  {
   "cell_type": "code",
   "execution_count": 12,
   "id": "82580dc2",
   "metadata": {
    "execution": {
     "iopub.execute_input": "2025-04-21T22:44:24.584833Z",
     "iopub.status.busy": "2025-04-21T22:44:24.584279Z",
     "iopub.status.idle": "2025-04-21T22:44:26.816714Z",
     "shell.execute_reply": "2025-04-21T22:44:26.815986Z"
    },
    "papermill": {
     "duration": 2.383971,
     "end_time": "2025-04-21T22:44:26.817922",
     "exception": false,
     "start_time": "2025-04-21T22:44:24.433951",
     "status": "completed"
    },
    "tags": []
   },
   "outputs": [
    {
     "data": {
      "text/plain": [
       "'/kaggle/working/WavTokenizer/wavs.zip'"
      ]
     },
     "execution_count": 12,
     "metadata": {},
     "output_type": "execute_result"
    }
   ],
   "source": [
    "import shutil\n",
    "shutil.make_archive('wavs', 'zip', '/kaggle/working/WavTokenizer/wavs')"
   ]
  }
 ],
 "metadata": {
  "kaggle": {
   "accelerator": "gpu",
   "dataSources": [
    {
     "isSourceIdPinned": true,
     "modelId": 313256,
     "modelInstanceId": 292611,
     "sourceId": 350421,
     "sourceType": "modelInstanceVersion"
    }
   ],
   "dockerImageVersionId": 31011,
   "isGpuEnabled": true,
   "isInternetEnabled": true,
   "language": "python",
   "sourceType": "notebook"
  },
  "kernelspec": {
   "display_name": "Python 3",
   "language": "python",
   "name": "python3"
  },
  "language_info": {
   "codemirror_mode": {
    "name": "ipython",
    "version": 3
   },
   "file_extension": ".py",
   "mimetype": "text/x-python",
   "name": "python",
   "nbconvert_exporter": "python",
   "pygments_lexer": "ipython3",
   "version": "3.11.11"
  },
  "papermill": {
   "default_parameters": {},
   "duration": 442.389627,
   "end_time": "2025-04-21T22:44:29.178438",
   "environment_variables": {},
   "exception": null,
   "input_path": "__notebook__.ipynb",
   "output_path": "__notebook__.ipynb",
   "parameters": {},
   "start_time": "2025-04-21T22:37:06.788811",
   "version": "2.6.0"
  }
 },
 "nbformat": 4,
 "nbformat_minor": 5
}
